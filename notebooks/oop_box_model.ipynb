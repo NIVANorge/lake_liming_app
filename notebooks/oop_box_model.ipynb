{
 "cells": [
  {
   "cell_type": "code",
   "execution_count": null,
   "id": "c46b678e-dfb7-4dfd-8f8e-acf2a0bf9125",
   "metadata": {},
   "outputs": [],
   "source": [
    "import sys\n",
    "\n",
    "sys.path.append(\"../src/lake_modelling/utils\")\n",
    "\n",
    "import matplotlib.pyplot as plt\n",
    "import pandas as pd\n",
    "from scipy import integrate\n",
    "\n",
    "import lake_model as lm\n",
    "\n",
    "plt.style.use(\"ggplot\")"
   ]
  },
  {
   "cell_type": "markdown",
   "id": "96eb872c-e457-4494-abef-add9cfeb7088",
   "metadata": {},
   "source": [
    "# OOP lake model\n",
    "\n",
    "## 1. Lake\n",
    "\n",
    "The default is lake with an area of 0.2 km2, mean depth 5 m and residence time 0.7 years. Initial lake and inflow pH is 4.5, TOC is 4 mg/l and the flow profile is `fjell`.\n",
    "\n",
    "Alternatively, pass `kwargs` to the constructor to define a custom lake.\n",
    "\n",
    "**Note:** Only Altair plots are working in the notebook for now."
   ]
  },
  {
   "cell_type": "code",
   "execution_count": null,
   "id": "341e08e6-2cd8-44a6-aacf-a30ac062fbb1",
   "metadata": {},
   "outputs": [],
   "source": [
    "lake = lm.Lake(\n",
    "    area=0.2,\n",
    "    depth=5,\n",
    "    tau=0.7,\n",
    "    flow_prof=\"fjell\",\n",
    "    pH_lake0=4.5,\n",
    "    pH_inflow=4.5,\n",
    "    toc_lake0=4,\n",
    ")\n",
    "\n",
    "print(f\"Volume:           {lake.volume:.0f} litres.\")\n",
    "print(f\"Mean annual flow: {lake.mean_annual_flow:.0f} litres/month.\")\n",
    "\n",
    "lake.plot_flow_profile(lib=\"Altair\")"
   ]
  },
  {
   "cell_type": "markdown",
   "id": "7637c88e-24a1-4400-aaf6-1f30d6b4596b",
   "metadata": {},
   "source": [
    "## 2. Lime product\n",
    "\n",
    "Either specify the name of an existing product (defined in `lime_products.xlsx`), or set `from_database=False` and pass the required arguments to the constructor to create a custom product."
   ]
  },
  {
   "cell_type": "code",
   "execution_count": null,
   "id": "a333b7a1-94bf-4404-b7e3-c103760d2599",
   "metadata": {},
   "outputs": [],
   "source": [
    "prod = lm.LimeProduct(\"Miljøkalk VK3\")\n",
    "prod.plot_column_data(lib=\"Altair\")"
   ]
  },
  {
   "cell_type": "code",
   "execution_count": null,
   "id": "41dfe8f8-7941-4d19-a775-ce7be4b490e6",
   "metadata": {},
   "outputs": [],
   "source": [
    "# Custom product\n",
    "prod = lm.LimeProduct(\n",
    "    \"test\",\n",
    "    from_database=False,\n",
    "    ca_pct=40,\n",
    "    mg_pct=0,\n",
    "    dry_fac=0.7,\n",
    "    col_depth=5,\n",
    "    id_list=[70, 70, 70, 70, 70],\n",
    "    od_list=[1, 1, 1, 1, 1],\n",
    ")\n",
    "prod.plot_column_data(lib=\"Altair\")"
   ]
  },
  {
   "cell_type": "markdown",
   "id": "70493b00-734e-4d01-bc8b-8ff0bf6c0494",
   "metadata": {},
   "source": [
    "## 3. Model\n",
    "\n",
    "Requires as input a **lake object** and a **lime product** object. \n",
    "\n",
    "By default, the lime dose is 10 mg/l, the liming month is 7, the spreading method is `wet`, the soluble fraction for lake-bottom lime is 1, the rate coefficient for lake-bottom lime is 0.1, the decay constant for lime becoming inactive is 0.1, the maximum concentration is 8.5 mg-Ca/l, and the number of months simulated is 24. This behaviour can be changed/overridden by passing kwargs to the constructor."
   ]
  },
  {
   "cell_type": "code",
   "execution_count": null,
   "id": "9f9ad465-7300-47e6-bf40-199f26c17edd",
   "metadata": {},
   "outputs": [],
   "source": [
    "model = lm.Model(\n",
    "    lake,\n",
    "    prod,\n",
    "    lime_dose=10,\n",
    "    lime_month=1,\n",
    "    spr_meth=\"wet\",\n",
    "    spr_prop=0.5,\n",
    "    F_sol=1,\n",
    "    rate_const=0.1,\n",
    "    activity_const=0.1,\n",
    "    ca_aq_sat=8.5,\n",
    "    n_months=24,\n",
    ")\n",
    "\n",
    "print(f\"Method factor for '{model.spr_meth}': {model.method_fac:.1f}.\")\n",
    "print(\n",
    "    f\"Instananeous ΔCa-equivalents: {model.C_inst0:.2f} mg/l ({model.C_inst0 * 100.09/40.08:.2f} mg-CaCO3/l).\"\n",
    ")\n",
    "print(\n",
    "    f\"Slow, lake-bottom ΔCa-equivalents: {model.C_bott0:.2f} mg/l ({model.C_bott0 * 100.09/40.08:.2f} mg-CaCO3/l).\"\n",
    ")\n",
    "model.plot_result(lib=\"Altair\")"
   ]
  },
  {
   "cell_type": "markdown",
   "id": "6af49180-7311-4afb-8751-906932af2b6e",
   "metadata": {},
   "source": [
    "## 4. Modify and re-run"
   ]
  },
  {
   "cell_type": "code",
   "execution_count": null,
   "id": "47626135-6997-4b84-8718-3505477c4f13",
   "metadata": {},
   "outputs": [],
   "source": [
    "lake.flow_prof = \"none\"\n",
    "model.plot_result(lib=\"Altair\")"
   ]
  },
  {
   "cell_type": "code",
   "execution_count": null,
   "id": "2b2e2bf5-dd6d-4f8d-9cf6-30d5069a761b",
   "metadata": {
    "tags": []
   },
   "outputs": [],
   "source": [
    "model.lime_month = 7\n",
    "model.F_sol = 1\n",
    "model.lime_product = lm.LimeProduct(\"SK2 (old data)\")\n",
    "lake.flow_prof = \"fjell\"\n",
    "model.plot_result(lib=\"Altair\")"
   ]
  },
  {
   "cell_type": "markdown",
   "id": "742e9564-9a72-4318-b9a0-30dded130a98",
   "metadata": {},
   "source": [
    "## 6. Test conservation of mass"
   ]
  },
  {
   "cell_type": "code",
   "execution_count": null,
   "id": "a06557ca-929b-4361-8f2d-339c316643f3",
   "metadata": {
    "tags": []
   },
   "outputs": [],
   "source": [
    "lake.flow_prof = \"none\"\n",
    "model = lm.Model(\n",
    "    lake,\n",
    "    prod,\n",
    "    lime_dose=10,\n",
    "    lime_month=1,\n",
    "    spr_meth=\"wet\",\n",
    "    spr_prop=1,\n",
    "    F_sol=1,\n",
    "    rate_const=2,  # High so that lake-bottom lime dissoles quickly\n",
    "    activity_const=0,  # No decrease in activity over time\n",
    "    ca_aq_sat=8.5,\n",
    "    n_months=72,  # Long enough for Ca concentration to return to zero\n",
    ")\n",
    "\n",
    "print(f\"Method factor for '{model.spr_meth}': {model.method_fac:.1f}.\")\n",
    "print(\n",
    "    f\"Instananeous ΔCa-equivalents: {model.C_inst0:.2f} mg/l ({model.C_inst0 * 100.09/40.08:.2f} mg-CaCO3/l).\"\n",
    ")\n",
    "print(\n",
    "    f\"Slow, lake-bottom ΔCa-equivalents: {model.C_bott0:.2f} mg/l ({model.C_bott0 * 100.09/40.08:.2f} mg-CaCO3/l).\"\n",
    ")\n",
    "model.plot_result(lib=\"Altair\")"
   ]
  },
  {
   "cell_type": "code",
   "execution_count": null,
   "id": "cae35284-69d8-41a7-8d6e-e1463c784cd4",
   "metadata": {
    "tags": []
   },
   "outputs": [],
   "source": [
    "# Total Ca-equivalents added to lake at start (in kg)\n",
    "tot_in = (\n",
    "    (model.lime_product.ca_pct + (model.lime_product.mg_pct * 40.08 / 24.31))\n",
    "    * model.spr_prop\n",
    "    * model.lake.volume\n",
    "    * model.lime_dose\n",
    "    / (100 * 1e6)\n",
    ")\n",
    "\n",
    "# Total accumulated Ca from outflow by end of simulation (in kg)\n",
    "# 'flow_prof' must be 'none' for this calculation to work.\n",
    "dx = 0.01  # months\n",
    "q = model.lake.mean_annual_flow  # l/month\n",
    "load = model.result_df[\"Ca (mg/l)\"] * q * dx / 1e6  # kg\n",
    "tot_out = integrate.simpson(load)\n",
    "print(f\"Total Ca-equivalents added:        {tot_in:.1f} kg.\")\n",
    "print(f\"Total Ca-equivalents from outflow: {tot_out:.1f} kg.\")"
   ]
  }
 ],
 "metadata": {
  "kernelspec": {
   "display_name": "Python 3 (ipykernel)",
   "language": "python",
   "name": "python3"
  },
  "language_info": {
   "codemirror_mode": {
    "name": "ipython",
    "version": 3
   },
   "file_extension": ".py",
   "mimetype": "text/x-python",
   "name": "python",
   "nbconvert_exporter": "python",
   "pygments_lexer": "ipython3",
   "version": "3.11.6"
  }
 },
 "nbformat": 4,
 "nbformat_minor": 5
}
